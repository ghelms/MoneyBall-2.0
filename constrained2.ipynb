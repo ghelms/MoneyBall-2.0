{
 "cells": [
  {
   "cell_type": "code",
   "execution_count": 2,
   "metadata": {},
   "outputs": [],
   "source": [
    "def lagrangian(x, lambda_, performances, salaries, salary_cap):\n",
    "  return sum(performances[i] for i in x) - lambda_ * sum(salaries[i] for i in x)\n"
   ]
  },
  {
   "cell_type": "code",
   "execution_count": null,
   "metadata": {},
   "outputs": [],
   "source": [
    "import numpy as np\n",
    "from scipy.optimize import minimize\n",
    "\n",
    "# Define the data for the optimization problem\n",
    "performances = [5, 6, 8, 9, 10]\n",
    "salaries = [1, 2, 3, 4, 5]\n",
    "salary_cap = 8\n",
    "\n",
    "# Define the optimization problem\n",
    "def objective(x):\n",
    "  x = [int(i) for i in x]\n",
    "  return -lagrangian(x, lambda_, performances, salaries, salary_cap)\n",
    "\n",
    "def constraint(x):\n",
    "  x = [int(i) for i in x]\n",
    "  return salary_cap - sum(salaries[i] for i in x)\n",
    "\n",
    "# Initialize the optimization variables\n",
    "x0 = np.ones(len(performances))\n",
    "\n",
    "# Solve the optimization problem\n",
    "res = minimize(objective, x0, method='Nelder-Mead', constraints={\"fun\": constraint, \"type\": \"ineq\"})\n",
    "\n",
    "# Print the optimal values of x and lambda_\n",
    "print(res.x)\n",
    "print(res.fun)\n"
   ]
  },
  {
   "cell_type": "code",
   "execution_count": 31,
   "metadata": {},
   "outputs": [
    {
     "name": "stdout",
     "output_type": "stream",
     "text": [
      "Optimal team: [1. 1. 1. 1. 1.]\n",
      "Total salary: 350.0\n",
      "Overall performance: 460.0\n"
     ]
    }
   ],
   "source": [
    "import numpy as np\n",
    "from scipy.optimize import minimize\n",
    "\n",
    "# Define the performance and salary data for each player\n",
    "performances = [100, 120, 90, 80, 70]\n",
    "salaries = [50, 60, 70, 80, 90]\n",
    "\n",
    "# Define the maximum salary budget\n",
    "salary_budget = 200\n",
    "\n",
    "# Define the optimization function\n",
    "def optimize_team(x):\n",
    "  # Calculate the overall performance of the team\n",
    "  overall_performance = np.dot(performances, x)\n",
    "  \n",
    "  # Calculate the total salary of the team\n",
    "  total_salary = np.dot(salaries, x)\n",
    "  \n",
    "  # Return the negative of the overall performance, since we want to maximize the performance\n",
    "  # Add a penalty for exceeding the salary budget\n",
    "  return -overall_performance + 1e6 * np.maximum(total_salary - salary_budget, 0)\n",
    "\n",
    "# Set up the optimization constraints\n",
    "constraints = [\n",
    "  # Each player must be included in the team (x must be binary)\n",
    "  {'type': 'ineq', 'fun': lambda x: x},\n",
    "  # Each player can be selected at most once\n",
    "  {'type': 'ineq', 'fun': lambda x: 1 - x},\n",
    "]\n",
    "\n",
    "# Run the optimization\n",
    "result = minimize(optimize_team, x0=np.ones(len(performances)), constraints=constraints)\n",
    "\n",
    "# Extract the optimal combination of players from the result\n",
    "optimal_team = result['x']\n",
    "\n",
    "# Print the result\n",
    "print(f'Optimal team: {optimal_team}')\n",
    "print(f'Total salary: {np.dot(salaries, optimal_team)}')\n",
    "print(f'Overall performance: {np.dot(performances, optimal_team)}')\n"
   ]
  }
 ],
 "metadata": {
  "kernelspec": {
   "display_name": "anaconda3-sd",
   "language": "python",
   "name": "python3"
  },
  "language_info": {
   "codemirror_mode": {
    "name": "ipython",
    "version": 3
   },
   "file_extension": ".py",
   "mimetype": "text/x-python",
   "name": "python",
   "nbconvert_exporter": "python",
   "pygments_lexer": "ipython3",
   "version": "3.9.16 (main, Dec  7 2022, 10:02:13) \n[Clang 14.0.0 (clang-1400.0.29.202)]"
  },
  "orig_nbformat": 4,
  "vscode": {
   "interpreter": {
    "hash": "4eb4676d2be8723f6c545d36940d2f6ae3bf6c53ee96fb52f83204bf379c879f"
   }
  }
 },
 "nbformat": 4,
 "nbformat_minor": 2
}
