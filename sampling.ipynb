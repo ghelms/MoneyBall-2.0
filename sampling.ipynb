{
 "cells": [
  {
   "cell_type": "code",
   "execution_count": 101,
   "metadata": {},
   "outputs": [],
   "source": [
    "import pandas as pd\n",
    "\n",
    "df = pd.read_csv(\"data/player_stats.csv\")\n",
    "df[df[\"yearID\"] == 2020].head()\n",
    "df = df[df[\"leagueID\"] == \"NL\"]\n",
    "df = df[[\"playerID\", \"br_WAR_total\", \"salary\"]]\n",
    "# get rows where no column has NaN\n",
    "df = df.dropna()\n",
    "# keep unique playerID and keep the first if duplicates are found\n",
    "df = df.drop_duplicates(subset=\"playerID\", keep=\"first\")"
   ]
  },
  {
   "cell_type": "code",
   "execution_count": 126,
   "metadata": {},
   "outputs": [
    {
     "data": {
      "text/html": [
       "<div>\n",
       "<style scoped>\n",
       "    .dataframe tbody tr th:only-of-type {\n",
       "        vertical-align: middle;\n",
       "    }\n",
       "\n",
       "    .dataframe tbody tr th {\n",
       "        vertical-align: top;\n",
       "    }\n",
       "\n",
       "    .dataframe thead th {\n",
       "        text-align: right;\n",
       "    }\n",
       "</style>\n",
       "<table border=\"1\" class=\"dataframe\">\n",
       "  <thead>\n",
       "    <tr style=\"text-align: right;\">\n",
       "      <th></th>\n",
       "      <th>playerID</th>\n",
       "      <th>br_WAR_total</th>\n",
       "      <th>salary</th>\n",
       "    </tr>\n",
       "  </thead>\n",
       "  <tbody>\n",
       "    <tr>\n",
       "      <th>15743</th>\n",
       "      <td>tudorjo01</td>\n",
       "      <td>8.24</td>\n",
       "      <td>457500.0</td>\n",
       "    </tr>\n",
       "    <tr>\n",
       "      <th>1225</th>\n",
       "      <td>brownke01</td>\n",
       "      <td>7.77</td>\n",
       "      <td>3350000.0</td>\n",
       "    </tr>\n",
       "    <tr>\n",
       "      <th>6849</th>\n",
       "      <td>sheetbe01</td>\n",
       "      <td>7.32</td>\n",
       "      <td>2425000.0</td>\n",
       "    </tr>\n",
       "    <tr>\n",
       "      <th>33</th>\n",
       "      <td>schmija01</td>\n",
       "      <td>7.00</td>\n",
       "      <td>7937500.0</td>\n",
       "    </tr>\n",
       "    <tr>\n",
       "      <th>509</th>\n",
       "      <td>arroybr01</td>\n",
       "      <td>6.97</td>\n",
       "      <td>3000000.0</td>\n",
       "    </tr>\n",
       "    <tr>\n",
       "      <th>...</th>\n",
       "      <td>...</td>\n",
       "      <td>...</td>\n",
       "      <td>...</td>\n",
       "    </tr>\n",
       "    <tr>\n",
       "      <th>11866</th>\n",
       "      <td>jacksed01</td>\n",
       "      <td>-2.13</td>\n",
       "      <td>11000000.0</td>\n",
       "    </tr>\n",
       "    <tr>\n",
       "      <th>3080</th>\n",
       "      <td>zitoba01</td>\n",
       "      <td>-2.46</td>\n",
       "      <td>20000000.0</td>\n",
       "    </tr>\n",
       "    <tr>\n",
       "      <th>11926</th>\n",
       "      <td>cabrejo01</td>\n",
       "      <td>-2.56</td>\n",
       "      <td>705000.0</td>\n",
       "    </tr>\n",
       "    <tr>\n",
       "      <th>9523</th>\n",
       "      <td>clancji01</td>\n",
       "      <td>-2.88</td>\n",
       "      <td>1225000.0</td>\n",
       "    </tr>\n",
       "    <tr>\n",
       "      <th>25115</th>\n",
       "      <td>bautijo01</td>\n",
       "      <td>-3.01</td>\n",
       "      <td>760000.0</td>\n",
       "    </tr>\n",
       "  </tbody>\n",
       "</table>\n",
       "<p>1626 rows × 3 columns</p>\n",
       "</div>"
      ],
      "text/plain": [
       "        playerID  br_WAR_total      salary\n",
       "15743  tudorjo01          8.24    457500.0\n",
       "1225   brownke01          7.77   3350000.0\n",
       "6849   sheetbe01          7.32   2425000.0\n",
       "33     schmija01          7.00   7937500.0\n",
       "509    arroybr01          6.97   3000000.0\n",
       "...          ...           ...         ...\n",
       "11866  jacksed01         -2.13  11000000.0\n",
       "3080    zitoba01         -2.46  20000000.0\n",
       "11926  cabrejo01         -2.56    705000.0\n",
       "9523   clancji01         -2.88   1225000.0\n",
       "25115  bautijo01         -3.01    760000.0\n",
       "\n",
       "[1626 rows x 3 columns]"
      ]
     },
     "execution_count": 126,
     "metadata": {},
     "output_type": "execute_result"
    }
   ],
   "source": [
    "df"
   ]
  },
  {
   "cell_type": "code",
   "execution_count": 157,
   "metadata": {},
   "outputs": [],
   "source": [
    "# sort by ascending salary\n",
    "df = df.sort_values(by=\"br_WAR_total\", ascending=False)\n",
    "df = df.reset_index()\n",
    "df = df.drop(columns=\"index\")"
   ]
  },
  {
   "cell_type": "code",
   "execution_count": 158,
   "metadata": {},
   "outputs": [
    {
     "data": {
      "text/html": [
       "<div>\n",
       "<style scoped>\n",
       "    .dataframe tbody tr th:only-of-type {\n",
       "        vertical-align: middle;\n",
       "    }\n",
       "\n",
       "    .dataframe tbody tr th {\n",
       "        vertical-align: top;\n",
       "    }\n",
       "\n",
       "    .dataframe thead th {\n",
       "        text-align: right;\n",
       "    }\n",
       "</style>\n",
       "<table border=\"1\" class=\"dataframe\">\n",
       "  <thead>\n",
       "    <tr style=\"text-align: right;\">\n",
       "      <th></th>\n",
       "      <th>level_0</th>\n",
       "      <th>playerID</th>\n",
       "      <th>br_WAR_total</th>\n",
       "      <th>salary</th>\n",
       "    </tr>\n",
       "  </thead>\n",
       "  <tbody>\n",
       "    <tr>\n",
       "      <th>0</th>\n",
       "      <td>0</td>\n",
       "      <td>tudorjo01</td>\n",
       "      <td>8.24</td>\n",
       "      <td>457500.0</td>\n",
       "    </tr>\n",
       "    <tr>\n",
       "      <th>1</th>\n",
       "      <td>1</td>\n",
       "      <td>brownke01</td>\n",
       "      <td>7.77</td>\n",
       "      <td>3350000.0</td>\n",
       "    </tr>\n",
       "    <tr>\n",
       "      <th>2</th>\n",
       "      <td>2</td>\n",
       "      <td>sheetbe01</td>\n",
       "      <td>7.32</td>\n",
       "      <td>2425000.0</td>\n",
       "    </tr>\n",
       "    <tr>\n",
       "      <th>3</th>\n",
       "      <td>3</td>\n",
       "      <td>schmija01</td>\n",
       "      <td>7.00</td>\n",
       "      <td>7937500.0</td>\n",
       "    </tr>\n",
       "    <tr>\n",
       "      <th>4</th>\n",
       "      <td>4</td>\n",
       "      <td>arroybr01</td>\n",
       "      <td>6.97</td>\n",
       "      <td>3000000.0</td>\n",
       "    </tr>\n",
       "    <tr>\n",
       "      <th>...</th>\n",
       "      <td>...</td>\n",
       "      <td>...</td>\n",
       "      <td>...</td>\n",
       "      <td>...</td>\n",
       "    </tr>\n",
       "    <tr>\n",
       "      <th>1621</th>\n",
       "      <td>1621</td>\n",
       "      <td>jacksed01</td>\n",
       "      <td>-2.13</td>\n",
       "      <td>11000000.0</td>\n",
       "    </tr>\n",
       "    <tr>\n",
       "      <th>1622</th>\n",
       "      <td>1622</td>\n",
       "      <td>zitoba01</td>\n",
       "      <td>-2.46</td>\n",
       "      <td>20000000.0</td>\n",
       "    </tr>\n",
       "    <tr>\n",
       "      <th>1623</th>\n",
       "      <td>1623</td>\n",
       "      <td>cabrejo01</td>\n",
       "      <td>-2.56</td>\n",
       "      <td>705000.0</td>\n",
       "    </tr>\n",
       "    <tr>\n",
       "      <th>1624</th>\n",
       "      <td>1624</td>\n",
       "      <td>clancji01</td>\n",
       "      <td>-2.88</td>\n",
       "      <td>1225000.0</td>\n",
       "    </tr>\n",
       "    <tr>\n",
       "      <th>1625</th>\n",
       "      <td>1625</td>\n",
       "      <td>bautijo01</td>\n",
       "      <td>-3.01</td>\n",
       "      <td>760000.0</td>\n",
       "    </tr>\n",
       "  </tbody>\n",
       "</table>\n",
       "<p>1626 rows × 4 columns</p>\n",
       "</div>"
      ],
      "text/plain": [
       "      level_0   playerID  br_WAR_total      salary\n",
       "0           0  tudorjo01          8.24    457500.0\n",
       "1           1  brownke01          7.77   3350000.0\n",
       "2           2  sheetbe01          7.32   2425000.0\n",
       "3           3  schmija01          7.00   7937500.0\n",
       "4           4  arroybr01          6.97   3000000.0\n",
       "...       ...        ...           ...         ...\n",
       "1621     1621  jacksed01         -2.13  11000000.0\n",
       "1622     1622   zitoba01         -2.46  20000000.0\n",
       "1623     1623  cabrejo01         -2.56    705000.0\n",
       "1624     1624  clancji01         -2.88   1225000.0\n",
       "1625     1625  bautijo01         -3.01    760000.0\n",
       "\n",
       "[1626 rows x 4 columns]"
      ]
     },
     "execution_count": 158,
     "metadata": {},
     "output_type": "execute_result"
    }
   ],
   "source": [
    "df"
   ]
  },
  {
   "cell_type": "code",
   "execution_count": 186,
   "metadata": {},
   "outputs": [
    {
     "data": {
      "text/plain": [
       "array([  95, 1232, 1347,   49,  183,  579, 1315, 1390, 1166,  299,   84,\n",
       "        900,  533,  323, 1382,   54,  408,   48, 1616,  557,  978,  680,\n",
       "        338,  369, 1143])"
      ]
     },
     "execution_count": 186,
     "metadata": {},
     "output_type": "execute_result"
    }
   ],
   "source": [
    "from numpy.random import choice\n",
    "normalized = df[\"br_WAR_total\"] + abs(min(df[\"br_WAR_total\"]))\n",
    "draw = choice(list(range(len(df))), 25,\n",
    "              p=normalized/sum(normalized), replace=False)\n",
    "draw"
   ]
  },
  {
   "cell_type": "code",
   "execution_count": 170,
   "metadata": {},
   "outputs": [
    {
     "data": {
      "text/plain": [
       "[<matplotlib.lines.Line2D at 0x16bbd8e50>]"
      ]
     },
     "execution_count": 170,
     "metadata": {},
     "output_type": "execute_result"
    },
    {
     "data": {
      "image/png": "[encoded data removed]",
      "text/plain": [
       "<Figure size 640x480 with 1 Axes>"
      ]
     },
     "metadata": {},
     "output_type": "display_data"
    }
   ],
   "source": [
    "#plot series\n",
    "import matplotlib.pyplot as plt\n",
    "plt.plot(normalized/sum(normalized))\n"
   ]
  },
  {
   "cell_type": "code",
   "execution_count": 125,
   "metadata": {},
   "outputs": [
    {
     "name": "stdout",
     "output_type": "stream",
     "text": [
      "0.4958671586715867 1.361786465793056\n"
     ]
    },
    {
     "data": {
      "text/plain": [
       "(array([0.00546672, 0.00546672, 0.        , 0.00546672, 0.00546672,\n",
       "        0.        , 0.        , 0.00546672, 0.01093344, 0.01640016,\n",
       "        0.01093344, 0.02733361, 0.02733361, 0.04373377, 0.0765341 ,\n",
       "        0.09293426, 0.09293426, 0.12573459, 0.1530682 , 0.23506902,\n",
       "        0.28973623, 0.28973623, 0.32253656, 0.51933853, 0.48107148,\n",
       "        0.58493918, 0.53573869, 0.38267049, 0.43733771, 0.39360394,\n",
       "        0.24600246, 0.30066967, 0.21866885, 0.28426951, 0.26786935,\n",
       "        0.17493508, 0.22413557, 0.1804018 , 0.19133525, 0.10933443,\n",
       "        0.16946836, 0.10933443, 0.08746754, 0.10386771, 0.0765341 ,\n",
       "        0.07106738, 0.07106738, 0.06013393, 0.06013393, 0.04373377,\n",
       "        0.05466721, 0.04373377, 0.06560066, 0.02733361, 0.03280033,\n",
       "        0.02733361, 0.02186689, 0.02186689, 0.02733361, 0.02733361,\n",
       "        0.02733361, 0.01640016, 0.02186689, 0.02186689, 0.02186689,\n",
       "        0.        , 0.02733361, 0.00546672, 0.01093344, 0.01093344,\n",
       "        0.01093344, 0.01093344, 0.00546672, 0.01093344, 0.00546672,\n",
       "        0.01640016, 0.01093344, 0.02186689, 0.00546672, 0.        ,\n",
       "        0.        , 0.        , 0.00546672, 0.00546672, 0.        ,\n",
       "        0.        , 0.        , 0.01093344, 0.01093344, 0.        ,\n",
       "        0.        , 0.00546672, 0.        , 0.        , 0.        ,\n",
       "        0.00546672, 0.        , 0.        , 0.        , 0.00546672]),\n",
       " array([-3.01  , -2.8975, -2.785 , -2.6725, -2.56  , -2.4475, -2.335 ,\n",
       "        -2.2225, -2.11  , -1.9975, -1.885 , -1.7725, -1.66  , -1.5475,\n",
       "        -1.435 , -1.3225, -1.21  , -1.0975, -0.985 , -0.8725, -0.76  ,\n",
       "        -0.6475, -0.535 , -0.4225, -0.31  , -0.1975, -0.085 ,  0.0275,\n",
       "         0.14  ,  0.2525,  0.365 ,  0.4775,  0.59  ,  0.7025,  0.815 ,\n",
       "         0.9275,  1.04  ,  1.1525,  1.265 ,  1.3775,  1.49  ,  1.6025,\n",
       "         1.715 ,  1.8275,  1.94  ,  2.0525,  2.165 ,  2.2775,  2.39  ,\n",
       "         2.5025,  2.615 ,  2.7275,  2.84  ,  2.9525,  3.065 ,  3.1775,\n",
       "         3.29  ,  3.4025,  3.515 ,  3.6275,  3.74  ,  3.8525,  3.965 ,\n",
       "         4.0775,  4.19  ,  4.3025,  4.415 ,  4.5275,  4.64  ,  4.7525,\n",
       "         4.865 ,  4.9775,  5.09  ,  5.2025,  5.315 ,  5.4275,  5.54  ,\n",
       "         5.6525,  5.765 ,  5.8775,  5.99  ,  6.1025,  6.215 ,  6.3275,\n",
       "         6.44  ,  6.5525,  6.665 ,  6.7775,  6.89  ,  7.0025,  7.115 ,\n",
       "         7.2275,  7.34  ,  7.4525,  7.565 ,  7.6775,  7.79  ,  7.9025,\n",
       "         8.015 ,  8.1275,  8.24  ]),\n",
       " <BarContainer object of 100 artists>)"
      ]
     },
     "execution_count": 125,
     "metadata": {},
     "output_type": "execute_result"
    },
    {
     "data": {
      "image/png": "[encoded data removed]",
      "text/plain": [
       "<Figure size 640x480 with 1 Axes>"
      ]
     },
     "metadata": {},
     "output_type": "display_data"
    }
   ],
   "source": [
    "# fit normal distribution to data\n",
    "from scipy.stats import norm\n",
    "import numpy as np\n",
    "mu, std = norm.fit(df[\"br_WAR_total\"])\n",
    "print(mu, std)\n",
    "\n",
    "# plot the norm ontop of the histogram\n",
    "import matplotlib.pyplot as plt\n",
    "\n",
    "plt.hist(df[\"br_WAR_total\"], bins=100, density=True, alpha=0.6, color=\"g\")\n"
   ]
  },
  {
   "cell_type": "code",
   "execution_count": null,
   "metadata": {},
   "outputs": [],
   "source": []
  },
  {
   "cell_type": "code",
   "execution_count": 201,
   "metadata": {},
   "outputs": [
    {
     "ename": "SyntaxError",
     "evalue": "invalid syntax (989466651.py, line 14)",
     "output_type": "error",
     "traceback": [
      "\u001b[0;36m  Cell \u001b[0;32mIn[201], line 14\u001b[0;36m\u001b[0m\n\u001b[0;31m    sample =\u001b[0m\n\u001b[0m             ^\u001b[0m\n\u001b[0;31mSyntaxError\u001b[0m\u001b[0;31m:\u001b[0m invalid syntax\n"
     ]
    }
   ],
   "source": [
    "# randomly sample from df 1000 times taking 25 values each time\n",
    "# and calculate the mean of each sample\n",
    "\n",
    "#sort df by descending war_score\n",
    "df = df.sort_values(by=\"br_WAR_total\", ascending=False)\n",
    "\n",
    "\n",
    "SAMPLE_SIZE = 10000\n",
    "BUDGET = 50000000\n",
    "max_war = 0\n",
    "# set min salary to max int\n",
    "\n",
    "for i in range(SAMPLE_SIZE):\n",
    "    sample = df.sample(n=25, replace=False, weights=\"br_WAR_total\")\n",
    "\n",
    "    if sum(sample[\"br_WAR_total\"]) > max_war and sum(sample[\"salary\"]) <= BUDGET:\n",
    "        max_war = sum(sample[\"br_WAR_total\"])\n",
    "\n",
    "print(f\"Max WAR: {max_war}\")\n",
    "\n"
   ]
  },
  {
   "cell_type": "code",
   "execution_count": 215,
   "metadata": {},
   "outputs": [],
   "source": [
    "# do the same as above but sample using an exponential distribution\n",
    "# and calculate the mean of each sample\n",
    "\n",
    "#sort df by descending war_score\n",
    "def sample_uniform(df, sample_size, budget):\n",
    "    df1 = df.sort_values(by=\"br_WAR_total\", ascending=False)\n",
    "\n",
    "    SAMPLE_SIZE = sample_size\n",
    "    BUDGET = budget\n",
    "    max_war = 0\n",
    "    # set min salary to max int\n",
    "\n",
    "    for i in range(SAMPLE_SIZE):\n",
    "        sample = df1.sample(n=25, replace=False)\n",
    "\n",
    "        if sum(sample[\"br_WAR_total\"]) > max_war and sum(sample[\"salary\"]) <= BUDGET:\n",
    "            max_war = sum(sample[\"br_WAR_total\"])\n",
    "\n",
    "    return max_war"
   ]
  },
  {
   "cell_type": "code",
   "execution_count": 232,
   "metadata": {},
   "outputs": [],
   "source": [
    "# USING OVERSAMPLING\n",
    "#sort df by descending war_score\n",
    "\n",
    "def sample_over(df, sample_size, budget):\n",
    "    df1 = df.sort_values(by=\"br_WAR_total\", ascending=False)\n",
    "\n",
    "    SAMPLE_SIZE = sample_size\n",
    "    BUDGET = budget\n",
    "    max_war = 0\n",
    "    # set min salary to max int\n",
    "    normalized = df1[\"br_WAR_total\"] + abs(min(df1[\"br_WAR_total\"]))\n",
    "    for i in range(SAMPLE_SIZE):\n",
    "        sample = choice(list(range(len(df1))), 25, p=normalized/sum(normalized), replace=False)\n",
    "\n",
    "        if sum(df1.iloc[sample][\"br_WAR_total\"]) > max_war and sum(df1.iloc[sample][\"salary\"]) <= BUDGET:\n",
    "            max_war = sum(df1.iloc[sample][\"br_WAR_total\"])\n",
    "\n",
    "    return max_war"
   ]
  },
  {
   "cell_type": "code",
   "execution_count": 225,
   "metadata": {},
   "outputs": [],
   "source": [
    "def sample_multistage(df, sample_size, budget, frac=0.2):\n",
    "    df1 = df.sort_values(by=\"br_WAR_total\", ascending=True)\n",
    "    df1 = df1.iloc[:int(len(df)*frac)]\n",
    "    df1.sort_values(by=\"salary\", ascending=False)\n",
    "    df2 = df.iloc[:int(len(df)*frac)]\n",
    "    return sample_uniform(df2, sample_size, budget)"
   ]
  },
  {
   "cell_type": "code",
   "execution_count": 234,
   "metadata": {},
   "outputs": [],
   "source": [
    "def sample_multistage_oversample(df, sample_size, budget, frac=0.2):\n",
    "    df1 = df.sort_values(by=\"br_WAR_total\", ascending=True)\n",
    "    df1 = df1.iloc[:int(len(df)*frac)]\n",
    "    df1.sort_values(by=\"salary\", ascending=False)\n",
    "    df2 = df.iloc[:int(len(df)*frac)]\n",
    "    return sample_over(df2, sample_size, budget)"
   ]
  },
  {
   "cell_type": "code",
   "execution_count": 238,
   "metadata": {},
   "outputs": [
    {
     "name": "stdout",
     "output_type": "stream",
     "text": [
      "Uniform:  42.86000000000001\n",
      "Oversample:  58.660000000000004\n",
      "Multistage:  89.78999999999999\n",
      "Oversampled Multistage:  99.71\n"
     ]
    }
   ],
   "source": [
    "BUDGET = 50000000\n",
    "SAMPLE_SIZE = 10000\n",
    "\n",
    "print(\"Uniform: \", sample_uniform(df, SAMPLE_SIZE, BUDGET))\n",
    "print(\"Oversample: \",sample_over(df, SAMPLE_SIZE, BUDGET))\n",
    "print(\"Multistage: \", sample_multistage(df, SAMPLE_SIZE, BUDGET))\n",
    "print(\"Oversampled Multistage: \", sample_multistage_oversample(df, SAMPLE_SIZE, BUDGET))"
   ]
  },
  {
   "cell_type": "code",
   "execution_count": null,
   "metadata": {},
   "outputs": [],
   "source": []
  }
 ],
 "metadata": {
  "kernelspec": {
   "display_name": "anaconda3-sd",
   "language": "python",
   "name": "python3"
  },
  "language_info": {
   "codemirror_mode": {
    "name": "ipython",
    "version": 3
   },
   "file_extension": ".py",
   "mimetype": "text/x-python",
   "name": "python",
   "nbconvert_exporter": "python",
   "pygments_lexer": "ipython3",
   "version": "3.9.16"
  },
  "orig_nbformat": 4,
  "vscode": {
   "interpreter": {
    "hash": "4eb4676d2be8723f6c545d36940d2f6ae3bf6c53ee96fb52f83204bf379c879f"
   }
  }
 },
 "nbformat": 4,
 "nbformat_minor": 2
}
