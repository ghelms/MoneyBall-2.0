{
 "cells": [
  {
   "cell_type": "code",
   "execution_count": null,
   "metadata": {},
   "outputs": [],
   "source": [
    "import pandas as pd\n",
    "# open player_stats_2.csv\n",
    "df = pd.read_csv('data/player_stats-2.csv')\n",
    "df = df[df[\"yearID\"] == 2014]\n",
    "df = df[[\"playerID\", \"br_WAR_total\", \"salary\"]]\n",
    "# get rows where no column has NaN\n",
    "df = df.dropna()\n",
    "# keep unique playerID and keep the first if duplicates are found\n",
    "df = df.drop_duplicates(subset=\"playerID\", keep=\"first\")"
   ]
  },
  {
   "cell_type": "code",
   "execution_count": null,
   "metadata": {},
   "outputs": [
    {
     "name": "stdout",
     "output_type": "stream",
     "text": [
      "[95, 319, 132, 188, 28, 53, 254, 41, 262, 139, 270, 211, 106, 89, 259, 59, 304, 112, 240, 313, 283, 6, 143, 205, 308, 336]\n",
      "True\n"
     ]
    }
   ],
   "source": [
    "import random\n",
    "import math\n",
    "import numpy as np\n",
    "\n",
    "def simulated_annealing(playerSalaries, playerPerformance, budget, numIterations):\n",
    "  # Initialize the current team to a randomly selected group of 26 players\n",
    "  currentTeam = list(np.random.choice(list(range(len(playerSalaries))), 26, replace=False))\n",
    "  currentPerformance = sum([playerPerformance[i] for i in currentTeam])\n",
    "  currentCost = sum([playerSalaries[i] for i in currentTeam])\n",
    "\n",
    "  # Set the initial temperature\n",
    "  temperature = 1000.0\n",
    "\n",
    "  # Set the cooling rate\n",
    "  coolingRate = 0.003\n",
    "\n",
    "  # Initialize the best team and performance to the current team and performance\n",
    "  bestTeam = currentTeam\n",
    "  bestPerformance = currentPerformance\n",
    "\n",
    "  # Iterate over the specified number of iterations\n",
    "  for i in range(numIterations):\n",
    "    # Generate a new team by randomly swapping out one player in the current team\n",
    "    newTeam = currentTeam.copy()\n",
    "\n",
    "    indexToChange = random.randint(0, 25)\n",
    "\n",
    "    #get row equivalent player index\n",
    "    newPlayerIndex = newTeam[indexToChange]\n",
    "\n",
    "\n",
    "    while newPlayerIndex == newTeam[indexToChange] or newPlayerIndex in newTeam[:indexToChange] or newPlayerIndex in newTeam[indexToChange+1:]:\n",
    "      newPlayerIndex = random.randint(0, len(playerSalaries) - 1)\n",
    "\n",
    "\n",
    "    newTeam[indexToChange] = newPlayerIndex\n",
    "\n",
    "\n",
    "    newPerformance = sum([playerPerformance[i] for i in newTeam])\n",
    "    newCost = sum([playerSalaries[i] for i in newTeam])\n",
    "\n",
    "    # Calculate the acceptance probability\n",
    "    acceptanceProbability = calcAcceptanceProbability(currentPerformance, newPerformance, temperature)\n",
    "\n",
    "    # Determine whether to accept the new team\n",
    "    if (newCost <= budget and newPerformance > currentPerformance) or (newCost <= budget and random.random() < acceptanceProbability):\n",
    "      currentTeam = newTeam\n",
    "      currentPerformance = newPerformance\n",
    "      currentCost = newCost\n",
    "\n",
    "    # Update the best team and performance if necessary\n",
    "    if newPerformance > bestPerformance:\n",
    "      bestTeam = newTeam\n",
    "      bestPerformance = newPerformance\n",
    "\n",
    "    # Cool the temperature\n",
    "    temperature *= 1 - coolingRate\n",
    "\n",
    "  return bestTeam\n",
    "\n",
    "def calcAcceptanceProbability(currentPerformance, newPerformance, temperature):\n",
    "  if newPerformance > currentPerformance:\n",
    "    return 1.0\n",
    "  else:\n",
    "    return math.exp((newPerformance - currentPerformance) / temperature)\n",
    "\n",
    "# Test the simulated annealing function\n",
    "bestTeam = simulated_annealing(df[\"salary\"].tolist(), df[\"br_WAR_total\"].tolist(), 50_000_000, 10000)\n",
    "print(bestTeam)\n",
    "#print whether all players are unique\n",
    "print(len(bestTeam) == len(set(bestTeam)))\n",
    "\n"
   ]
  },
  {
   "cell_type": "code",
   "execution_count": null,
   "metadata": {},
   "outputs": [
    {
     "data": {
      "text/plain": [
       "48.150000000000006"
      ]
     },
     "execution_count": 318,
     "metadata": {},
     "output_type": "execute_result"
    }
   ],
   "source": [
    "df.iloc[bestTeam][\"br_WAR_total\"].sum()"
   ]
  }
 ],
 "metadata": {
  "kernelspec": {
   "display_name": "anaconda3-sd",
   "language": "python",
   "name": "python3"
  },
  "language_info": {
   "codemirror_mode": {
    "name": "ipython",
    "version": 3
   },
   "file_extension": ".py",
   "mimetype": "text/x-python",
   "name": "python",
   "nbconvert_exporter": "python",
   "pygments_lexer": "ipython3",
   "version": "3.9.16 (main, Dec  7 2022, 10:02:13) \n[Clang 14.0.0 (clang-1400.0.29.202)]"
  },
  "orig_nbformat": 4,
  "vscode": {
   "interpreter": {
    "hash": "4eb4676d2be8723f6c545d36940d2f6ae3bf6c53ee96fb52f83204bf379c879f"
   }
  }
 },
 "nbformat": 4,
 "nbformat_minor": 2
}
